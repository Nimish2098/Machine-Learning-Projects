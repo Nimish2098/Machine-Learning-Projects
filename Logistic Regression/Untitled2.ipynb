{
 "cells": [
  {
   "cell_type": "code",
   "execution_count": 1,
   "id": "fb728a20-8178-40c6-9e8b-2139268ee902",
   "metadata": {},
   "outputs": [],
   "source": [
    "import numpy as np"
   ]
  },
  {
   "cell_type": "code",
   "execution_count": 6,
   "id": "6e3a4213-f473-46ff-83f3-4fce563820fa",
   "metadata": {},
   "outputs": [],
   "source": [
    "# sigmoid function\n",
    "def sigmoid(z):\n",
    "    return 1/ (1+ np.exp(-z))"
   ]
  },
  {
   "cell_type": "code",
   "execution_count": 7,
   "id": "92a59835-cdcf-4a31-986e-7d63bd8cf9f3",
   "metadata": {},
   "outputs": [],
   "source": [
    "def compute_cost(x,y,w,b):\n",
    "    m =x.shape[0]\n",
    "    h =sigmoid(np.dot(x,w)+b)\n",
    "    cost = -(1/m)*np.sum(y*log(h) + (1-y)*np.log(1-h))\n",
    "    return cost"
   ]
  },
  {
   "cell_type": "code",
   "execution_count": 8,
   "id": "7c23b9a8-b334-460f-9ad8-cef0e355d5ac",
   "metadata": {},
   "outputs": [],
   "source": [
    "def compute_gradient(x,y,w,b):\n",
    "    m = x.shape[0]\n",
    "    h = sigmoid(np.dot(x,w)+b)\n",
    "    dw = (1/m)*np.dot(X.T,(h-y))\n",
    "    db = (1/m)*np.sum(h-y)\n",
    "    return dw,db"
   ]
  },
  {
   "cell_type": "code",
   "execution_count": 9,
   "id": "16484dda-f403-4fc6-ae3f-b3fe8dca1882",
   "metadata": {},
   "outputs": [],
   "source": [
    "def gradient_descent(x,y,w,b,alpha,num_iterations):\n",
    "    for i in range(num_iterations):\n",
    "        dw,db = compute_gradients(x,y,w,b)\n",
    "        w = w-alpha*dw\n",
    "        b = b-alpha*db\n",
    "\n",
    "        if i%100==0:\n",
    "            cost = compute_cost(x,y,w,b)\n",
    "            print(f\"iterations{i},cost:{cost}\")\n",
    "        return w,b\n"
   ]
  },
  {
   "cell_type": "code",
   "execution_count": 10,
   "id": "2dc208d3-3e17-4748-9117-fec97f7faf31",
   "metadata": {},
   "outputs": [],
   "source": [
    "def logistic_regression(x,y,alpha=0.01,num_iterations=1000):\n",
    "    n = x.shape[1]\n",
    "    w = np.zeros((n,1))\n",
    "    b = 0\n",
    "    w,b = gradient_descent(x,y,w,b,alpha,num_iterations)\n",
    "    return w,b\n"
   ]
  },
  {
   "cell_type": "code",
   "execution_count": 11,
   "id": "76d9ef71-7937-4257-9515-d0a1da78bf9b",
   "metadata": {},
   "outputs": [],
   "source": [
    "def predict(x,w,b):\n",
    "    m = x.shape[0]\n",
    "    y_pred = sigmoid(np.dot(x,w)+b)\n",
    "    y_pred = [1 if i>0.5 else 0 for i in y_pred]\n",
    "    return np.array(y_pred)\n",
    "    "
   ]
  },
  {
   "cell_type": "code",
   "execution_count": 13,
   "id": "9866ed55-6e1b-45ba-8d8c-1b60ad59cbb7",
   "metadata": {},
   "outputs": [
    {
     "ename": "NameError",
     "evalue": "name 'compute_gradients' is not defined",
     "output_type": "error",
     "traceback": [
      "\u001b[1;31m---------------------------------------------------------------------------\u001b[0m",
      "\u001b[1;31mNameError\u001b[0m                                 Traceback (most recent call last)",
      "Cell \u001b[1;32mIn[13], line 5\u001b[0m\n\u001b[0;32m      2\u001b[0m x \u001b[38;5;241m=\u001b[39m np\u001b[38;5;241m.\u001b[39mrandom\u001b[38;5;241m.\u001b[39mrandn(\u001b[38;5;241m100\u001b[39m,\u001b[38;5;241m2\u001b[39m)\n\u001b[0;32m      3\u001b[0m y \u001b[38;5;241m=\u001b[39m (x[:,\u001b[38;5;241m0\u001b[39m]\u001b[38;5;241m+\u001b[39mx[:,\u001b[38;5;241m1\u001b[39m]\u001b[38;5;241m>\u001b[39m\u001b[38;5;241m0\u001b[39m)\u001b[38;5;241m.\u001b[39mastype(\u001b[38;5;28mint\u001b[39m)\u001b[38;5;241m.\u001b[39mreshape(\u001b[38;5;241m100\u001b[39m,\u001b[38;5;241m1\u001b[39m)\n\u001b[1;32m----> 5\u001b[0m w ,b \u001b[38;5;241m=\u001b[39m \u001b[43mlogistic_regression\u001b[49m\u001b[43m(\u001b[49m\u001b[43mx\u001b[49m\u001b[43m,\u001b[49m\u001b[43my\u001b[49m\u001b[43m,\u001b[49m\u001b[43malpha\u001b[49m\u001b[38;5;241;43m=\u001b[39;49m\u001b[38;5;241;43m0.1\u001b[39;49m\u001b[43m,\u001b[49m\u001b[43mnum_iterations\u001b[49m\u001b[38;5;241;43m=\u001b[39;49m\u001b[38;5;241;43m1000\u001b[39;49m\u001b[43m)\u001b[49m\n\u001b[0;32m      7\u001b[0m y_pred \u001b[38;5;241m=\u001b[39m predict(x,w,b)\n\u001b[0;32m      9\u001b[0m accuracy \u001b[38;5;241m=\u001b[39m np\u001b[38;5;241m.\u001b[39mmean(y\u001b[38;5;241m==\u001b[39my_pred)\u001b[38;5;241m*\u001b[39m\u001b[38;5;241m100\u001b[39m\n",
      "Cell \u001b[1;32mIn[10], line 5\u001b[0m, in \u001b[0;36mlogistic_regression\u001b[1;34m(x, y, alpha, num_iterations)\u001b[0m\n\u001b[0;32m      3\u001b[0m w \u001b[38;5;241m=\u001b[39m np\u001b[38;5;241m.\u001b[39mzeros((n,\u001b[38;5;241m1\u001b[39m))\n\u001b[0;32m      4\u001b[0m b \u001b[38;5;241m=\u001b[39m \u001b[38;5;241m0\u001b[39m\n\u001b[1;32m----> 5\u001b[0m w,b \u001b[38;5;241m=\u001b[39m \u001b[43mgradient_descent\u001b[49m\u001b[43m(\u001b[49m\u001b[43mx\u001b[49m\u001b[43m,\u001b[49m\u001b[43my\u001b[49m\u001b[43m,\u001b[49m\u001b[43mw\u001b[49m\u001b[43m,\u001b[49m\u001b[43mb\u001b[49m\u001b[43m,\u001b[49m\u001b[43malpha\u001b[49m\u001b[43m,\u001b[49m\u001b[43mnum_iterations\u001b[49m\u001b[43m)\u001b[49m\n\u001b[0;32m      6\u001b[0m \u001b[38;5;28;01mreturn\u001b[39;00m w,b\n",
      "Cell \u001b[1;32mIn[9], line 3\u001b[0m, in \u001b[0;36mgradient_descent\u001b[1;34m(x, y, w, b, alpha, num_iterations)\u001b[0m\n\u001b[0;32m      1\u001b[0m \u001b[38;5;28;01mdef\u001b[39;00m \u001b[38;5;21mgradient_descent\u001b[39m(x,y,w,b,alpha,num_iterations):\n\u001b[0;32m      2\u001b[0m     \u001b[38;5;28;01mfor\u001b[39;00m i \u001b[38;5;129;01min\u001b[39;00m \u001b[38;5;28mrange\u001b[39m(num_iterations):\n\u001b[1;32m----> 3\u001b[0m         dw,db \u001b[38;5;241m=\u001b[39m \u001b[43mcompute_gradients\u001b[49m(x,y,w,b)\n\u001b[0;32m      4\u001b[0m         w \u001b[38;5;241m=\u001b[39m w\u001b[38;5;241m-\u001b[39malpha\u001b[38;5;241m*\u001b[39mdw\n\u001b[0;32m      5\u001b[0m         b \u001b[38;5;241m=\u001b[39m b\u001b[38;5;241m-\u001b[39malpha\u001b[38;5;241m*\u001b[39mdb\n",
      "\u001b[1;31mNameError\u001b[0m: name 'compute_gradients' is not defined"
     ]
    }
   ],
   "source": [
    "np.random.seed(0)\n",
    "x = np.random.randn(100,2)\n",
    "y = (x[:,0]+x[:,1]>0).astype(int).reshape(100,1)\n",
    "\n",
    "w ,b = logistic_regression(x,y,alpha=0.1,num_iterations=1000)\n",
    "\n",
    "y_pred = predict(x,w,b)\n",
    "\n",
    "accuracy = np.mean(y==y_pred)*100\n",
    "print(f\"accuracy:{accuracy}%\")"
   ]
  },
  {
   "cell_type": "code",
   "execution_count": null,
   "id": "71398144-d27b-45a4-ade6-8c2e260e9221",
   "metadata": {},
   "outputs": [],
   "source": []
  }
 ],
 "metadata": {
  "kernelspec": {
   "display_name": "Python 3 (ipykernel)",
   "language": "python",
   "name": "python3"
  },
  "language_info": {
   "codemirror_mode": {
    "name": "ipython",
    "version": 3
   },
   "file_extension": ".py",
   "mimetype": "text/x-python",
   "name": "python",
   "nbconvert_exporter": "python",
   "pygments_lexer": "ipython3",
   "version": "3.12.4"
  }
 },
 "nbformat": 4,
 "nbformat_minor": 5
}
