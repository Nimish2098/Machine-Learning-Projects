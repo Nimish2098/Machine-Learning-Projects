{
 "cells": [
  {
   "cell_type": "code",
   "execution_count": 5,
   "metadata": {},
   "outputs": [
    {
     "name": "stdout",
     "output_type": "stream",
     "text": [
      "Height=[[113  49   1]\n",
      " [114  50   2]\n",
      " [114  49   4]\n",
      " ...\n",
      " [237 220 193]\n",
      " [238 221 194]\n",
      " [238 221 194]],Width=[[113  49   1]\n",
      " [114  50   2]\n",
      " [114  49   4]\n",
      " ...\n",
      " [238 221 194]\n",
      " [238 221 194]\n",
      " [238 221 194]]\n",
      "R=10, G=68,B=132\n",
      "B=132\n"
     ]
    }
   ],
   "source": [
    "import cv2\n",
    "image = cv2.imread('image.jpg')\n",
    "h,w = image[:2]\n",
    "\n",
    "print(\"Height={},Width={}\".format(h,w))\n",
    "\n",
    "(B,G,R) = image[100,100]\n",
    "\n",
    "print(\"R={}, G={},B={}\".format(R,G,B))\n",
    "\n",
    "B = image[100,100,0]\n",
    "print(\"B={}\".format(B))\n",
    "\n"
   ]
  },
  {
   "cell_type": "code",
   "execution_count": 2,
   "metadata": {},
   "outputs": [
    {
     "name": "stdout",
     "output_type": "stream",
     "text": [
      "Hello World\n"
     ]
    }
   ],
   "source": [
    "print(\"Hello World\")"
   ]
  }
 ],
 "metadata": {
  "kernelspec": {
   "display_name": "Python 3",
   "language": "python",
   "name": "python3"
  },
  "language_info": {
   "codemirror_mode": {
    "name": "ipython",
    "version": 3
   },
   "file_extension": ".py",
   "mimetype": "text/x-python",
   "name": "python",
   "nbconvert_exporter": "python",
   "pygments_lexer": "ipython3",
   "version": "3.12.0"
  }
 },
 "nbformat": 4,
 "nbformat_minor": 2
}
