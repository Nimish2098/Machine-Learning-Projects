{
 "cells": [
  {
   "cell_type": "markdown",
   "id": "519e9f83-af94-4ead-9b32-2780d347882d",
   "metadata": {},
   "source": [
    "# Group by"
   ]
  },
  {
   "cell_type": "code",
   "execution_count": 1,
   "id": "8b67b303-49f4-4c1c-a51c-94a5e186f004",
   "metadata": {},
   "outputs": [],
   "source": [
    "import pandas as pd"
   ]
  },
  {
   "cell_type": "code",
   "execution_count": 2,
   "id": "941ebd2d-1683-4498-bc08-55ab0747b2b0",
   "metadata": {},
   "outputs": [],
   "source": [
    "df = pd.read_csv('pokemon_data.csv')"
   ]
  },
  {
   "cell_type": "code",
   "execution_count": 9,
   "id": "3260dbf1-29a2-4212-9ab2-42e3b875cea4",
   "metadata": {},
   "outputs": [
    {
     "data": {
      "text/html": [
       "<div>\n",
       "<style scoped>\n",
       "    .dataframe tbody tr th:only-of-type {\n",
       "        vertical-align: middle;\n",
       "    }\n",
       "\n",
       "    .dataframe tbody tr th {\n",
       "        vertical-align: top;\n",
       "    }\n",
       "\n",
       "    .dataframe thead th {\n",
       "        text-align: right;\n",
       "    }\n",
       "</style>\n",
       "<table border=\"1\" class=\"dataframe\">\n",
       "  <thead>\n",
       "    <tr style=\"text-align: right;\">\n",
       "      <th></th>\n",
       "      <th>#</th>\n",
       "      <th>HP</th>\n",
       "      <th>Attack</th>\n",
       "      <th>Defense</th>\n",
       "      <th>Sp. Atk</th>\n",
       "      <th>Sp. Def</th>\n",
       "      <th>Speed</th>\n",
       "      <th>Legendary</th>\n",
       "    </tr>\n",
       "    <tr>\n",
       "      <th>Generation</th>\n",
       "      <th></th>\n",
       "      <th></th>\n",
       "      <th></th>\n",
       "      <th></th>\n",
       "      <th></th>\n",
       "      <th></th>\n",
       "      <th></th>\n",
       "      <th></th>\n",
       "    </tr>\n",
       "  </thead>\n",
       "  <tbody>\n",
       "    <tr>\n",
       "      <th>1</th>\n",
       "      <td>75.819277</td>\n",
       "      <td>65.819277</td>\n",
       "      <td>76.638554</td>\n",
       "      <td>70.861446</td>\n",
       "      <td>71.819277</td>\n",
       "      <td>69.090361</td>\n",
       "      <td>72.584337</td>\n",
       "      <td>0.036145</td>\n",
       "    </tr>\n",
       "    <tr>\n",
       "      <th>2</th>\n",
       "      <td>202.283019</td>\n",
       "      <td>71.207547</td>\n",
       "      <td>72.028302</td>\n",
       "      <td>73.386792</td>\n",
       "      <td>65.943396</td>\n",
       "      <td>73.905660</td>\n",
       "      <td>61.811321</td>\n",
       "      <td>0.047170</td>\n",
       "    </tr>\n",
       "    <tr>\n",
       "      <th>3</th>\n",
       "      <td>321.968750</td>\n",
       "      <td>66.543750</td>\n",
       "      <td>81.625000</td>\n",
       "      <td>74.100000</td>\n",
       "      <td>75.806250</td>\n",
       "      <td>71.225000</td>\n",
       "      <td>66.925000</td>\n",
       "      <td>0.112500</td>\n",
       "    </tr>\n",
       "    <tr>\n",
       "      <th>4</th>\n",
       "      <td>442.446281</td>\n",
       "      <td>73.082645</td>\n",
       "      <td>82.867769</td>\n",
       "      <td>78.132231</td>\n",
       "      <td>76.404959</td>\n",
       "      <td>77.190083</td>\n",
       "      <td>71.338843</td>\n",
       "      <td>0.107438</td>\n",
       "    </tr>\n",
       "    <tr>\n",
       "      <th>5</th>\n",
       "      <td>574.272727</td>\n",
       "      <td>71.787879</td>\n",
       "      <td>82.066667</td>\n",
       "      <td>72.327273</td>\n",
       "      <td>71.987879</td>\n",
       "      <td>68.739394</td>\n",
       "      <td>68.078788</td>\n",
       "      <td>0.090909</td>\n",
       "    </tr>\n",
       "    <tr>\n",
       "      <th>6</th>\n",
       "      <td>688.012195</td>\n",
       "      <td>68.268293</td>\n",
       "      <td>75.804878</td>\n",
       "      <td>76.682927</td>\n",
       "      <td>74.292683</td>\n",
       "      <td>74.890244</td>\n",
       "      <td>66.439024</td>\n",
       "      <td>0.097561</td>\n",
       "    </tr>\n",
       "  </tbody>\n",
       "</table>\n",
       "</div>"
      ],
      "text/plain": [
       "                     #         HP     Attack    Defense    Sp. Atk    Sp. Def  \\\n",
       "Generation                                                                      \n",
       "1            75.819277  65.819277  76.638554  70.861446  71.819277  69.090361   \n",
       "2           202.283019  71.207547  72.028302  73.386792  65.943396  73.905660   \n",
       "3           321.968750  66.543750  81.625000  74.100000  75.806250  71.225000   \n",
       "4           442.446281  73.082645  82.867769  78.132231  76.404959  77.190083   \n",
       "5           574.272727  71.787879  82.066667  72.327273  71.987879  68.739394   \n",
       "6           688.012195  68.268293  75.804878  76.682927  74.292683  74.890244   \n",
       "\n",
       "                Speed  Legendary  \n",
       "Generation                        \n",
       "1           72.584337   0.036145  \n",
       "2           61.811321   0.047170  \n",
       "3           66.925000   0.112500  \n",
       "4           71.338843   0.107438  \n",
       "5           68.078788   0.090909  \n",
       "6           66.439024   0.097561  "
      ]
     },
     "execution_count": 9,
     "metadata": {},
     "output_type": "execute_result"
    }
   ],
   "source": [
    "# grouping of all the data on the basis of generation of the pokemon\n",
    "df.groupby('Generation').mean(numeric_only=True)\n"
   ]
  },
  {
   "cell_type": "code",
   "execution_count": 11,
   "id": "590ba821-be8e-492d-a8c2-d20be6933690",
   "metadata": {},
   "outputs": [
    {
     "data": {
      "text/plain": [
       "Generation\n",
       "1    65.819277\n",
       "2    71.207547\n",
       "3    66.543750\n",
       "4    73.082645\n",
       "5    71.787879\n",
       "6    68.268293\n",
       "Name: HP, dtype: float64"
      ]
     },
     "execution_count": 11,
     "metadata": {},
     "output_type": "execute_result"
    }
   ],
   "source": [
    "# using groupby for a particular column\n",
    "df.groupby('Generation')['HP'].mean()"
   ]
  },
  {
   "cell_type": "code",
   "execution_count": 13,
   "id": "2613c13b-cdd4-42dc-935e-7731395c3877",
   "metadata": {},
   "outputs": [
    {
     "data": {
      "text/plain": [
       "Generation  Legendary\n",
       "1           False         64.612500\n",
       "            True          98.000000\n",
       "2           False         69.613861\n",
       "            True         103.400000\n",
       "3           False         64.626761\n",
       "            True          81.666667\n",
       "4           False         69.740741\n",
       "            True         100.846154\n",
       "5           False         69.353333\n",
       "            True          96.133333\n",
       "6           False         66.189189\n",
       "            True          87.500000\n",
       "Name: HP, dtype: float64"
      ]
     },
     "execution_count": 13,
     "metadata": {},
     "output_type": "execute_result"
    }
   ],
   "source": [
    "# using groupby for selective two or more columns\n",
    "df.groupby(['Generation','Legendary'])['HP'].mean()"
   ]
  },
  {
   "cell_type": "code",
   "execution_count": 19,
   "id": "02ab41d9-2452-40de-9018-c87a58bf5815",
   "metadata": {},
   "outputs": [
    {
     "data": {
      "text/plain": [
       "Generation\n",
       "1    166\n",
       "5    165\n",
       "3    160\n",
       "4    121\n",
       "2    106\n",
       "6     82\n",
       "Name: count, dtype: int64"
      ]
     },
     "execution_count": 19,
     "metadata": {},
     "output_type": "execute_result"
    }
   ],
   "source": [
    "# counting number of records by category\n",
    "df['Generation'].value_counts()"
   ]
  },
  {
   "cell_type": "code",
   "execution_count": 25,
   "id": "27cb1cd7-bfc1-439b-a6ab-8bd55606888e",
   "metadata": {},
   "outputs": [
    {
     "data": {
      "text/plain": [
       "Type 2\n",
       "Bug          3\n",
       "Dark        20\n",
       "Dragon      18\n",
       "Electric     6\n",
       "Fairy       23\n",
       "Fighting    26\n",
       "Fire        12\n",
       "Flying      97\n",
       "Ghost       14\n",
       "Grass       25\n",
       "Ground      35\n",
       "Ice         14\n",
       "Normal       4\n",
       "Poison      34\n",
       "Psychic     33\n",
       "Rock        14\n",
       "Steel       22\n",
       "Water       14\n",
       "Name: HP, dtype: int64"
      ]
     },
     "execution_count": 25,
     "metadata": {},
     "output_type": "execute_result"
    }
   ],
   "source": [
    "# using size to include null values\n",
    "df.groupby('Type 2')['HP'].size()\n",
    "\n"
   ]
  },
  {
   "cell_type": "code",
   "execution_count": 26,
   "id": "0eebaac2-9a18-41eb-8ee6-2b84519f82f9",
   "metadata": {},
   "outputs": [
    {
     "data": {
      "text/plain": [
       "Type 2\n",
       "Bug          3\n",
       "Dark        20\n",
       "Dragon      18\n",
       "Electric     6\n",
       "Fairy       23\n",
       "Fighting    26\n",
       "Fire        12\n",
       "Flying      97\n",
       "Ghost       14\n",
       "Grass       25\n",
       "Ground      35\n",
       "Ice         14\n",
       "Normal       4\n",
       "Poison      34\n",
       "Psychic     33\n",
       "Rock        14\n",
       "Steel       22\n",
       "Water       14\n",
       "Name: HP, dtype: int64"
      ]
     },
     "execution_count": 26,
     "metadata": {},
     "output_type": "execute_result"
    }
   ],
   "source": [
    "df.groupby('Type 2')['HP'].count()"
   ]
  },
  {
   "cell_type": "markdown",
   "id": "e5ee7e86-6e07-4b5e-831b-4e20d018f30b",
   "metadata": {},
   "source": []
  }
 ],
 "metadata": {
  "kernelspec": {
   "display_name": "Python 3 (ipykernel)",
   "language": "python",
   "name": "python3"
  },
  "language_info": {
   "codemirror_mode": {
    "name": "ipython",
    "version": 3
   },
   "file_extension": ".py",
   "mimetype": "text/x-python",
   "name": "python",
   "nbconvert_exporter": "python",
   "pygments_lexer": "ipython3",
   "version": "3.12.4"
  }
 },
 "nbformat": 4,
 "nbformat_minor": 5
}
