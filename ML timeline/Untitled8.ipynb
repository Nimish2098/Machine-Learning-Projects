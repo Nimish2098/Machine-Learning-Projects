{
 "cells": [
  {
   "cell_type": "code",
   "execution_count": 10,
   "id": "a63b39e1-5a43-4d26-90bc-304919bfb681",
   "metadata": {},
   "outputs": [],
   "source": [
    "# import pandas as pd\n",
    "# from sklearn.impute import SimpleImputer \n",
    "\n",
    "# data = {\n",
    "#     'Age':[25,30,None,30,40],\n",
    "#     'Salary':[200,200,300,None,None]\n",
    "#               }\n",
    "\n",
    "# df = pd.DataFrame(data)\n",
    "# imputer = SimpleImputer(strategy='mean')\n",
    "# df['Age'] = imputer.fit_transform(df[['Age']])\n",
    "# df['Salary'] = imputer.fit_transform(df[['Salary']])\n",
    "\n",
    "# # "
   ]
  },
  {
   "cell_type": "code",
   "execution_count": 12,
   "id": "2f402d6c-37f7-4e45-ab0e-a8f0ea924c25",
   "metadata": {},
   "outputs": [
    {
     "name": "stdout",
     "output_type": "stream",
     "text": [
      "[ 10  12  15  14  13 100]\n"
     ]
    }
   ],
   "source": [
    "import numpy as np\n",
    "from scipy import stats\n",
    "\n",
    "data = np.array([10,12,15,14,13,100])\n",
    "z_scores = np.abs(stats.zscore(data))\n",
    "\n",
    "filtered_data = data[z_scores < 3]\n",
    "print(filtered_data)\n"
   ]
  },
  {
   "cell_type": "code",
   "execution_count": 15,
   "id": "c162de65-ec89-4b0b-aea3-c67c8b22b5d2",
   "metadata": {},
   "outputs": [],
   "source": [
    "from sklearn.preprocessing import MinMaxScaler\n",
    "\n",
    "data = [[5000],[6000],[7000],[8000],[9000]]\n",
    "scaler = MinMaxScaler()"
   ]
  },
  {
   "cell_type": "code",
   "execution_count": 16,
   "id": "436a65a4-efdd-473c-9ccf-8bf399fbe63f",
   "metadata": {},
   "outputs": [
    {
     "name": "stdout",
     "output_type": "stream",
     "text": [
      "[[0.  ]\n",
      " [0.25]\n",
      " [0.5 ]\n",
      " [0.75]\n",
      " [1.  ]]\n"
     ]
    }
   ],
   "source": [
    "scaled_Data = scaler.fit_transform(data)\n",
    "print(scaled_Data)"
   ]
  },
  {
   "cell_type": "code",
   "execution_count": null,
   "id": "cbc3ee95-ea29-46b3-86c9-d3f10a13da71",
   "metadata": {},
   "outputs": [],
   "source": []
  }
 ],
 "metadata": {
  "kernelspec": {
   "display_name": "Python 3 (ipykernel)",
   "language": "python",
   "name": "python3"
  },
  "language_info": {
   "codemirror_mode": {
    "name": "ipython",
    "version": 3
   },
   "file_extension": ".py",
   "mimetype": "text/x-python",
   "name": "python",
   "nbconvert_exporter": "python",
   "pygments_lexer": "ipython3",
   "version": "3.12.4"
  }
 },
 "nbformat": 4,
 "nbformat_minor": 5
}
