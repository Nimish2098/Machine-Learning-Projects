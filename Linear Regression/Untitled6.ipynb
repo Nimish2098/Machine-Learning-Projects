{
 "cells": [
  {
   "cell_type": "code",
   "execution_count": 2,
   "id": "8d5dd05c-7b45-4698-99d0-43aff06659f9",
   "metadata": {},
   "outputs": [],
   "source": [
    "import numpy as np\n",
    "\n",
    "class LinearRegressionScratch:\n",
    "    def __init__(self,learning_rate=0.01,iterations=1000):\n",
    "        self.learning_rate = learning_rate\n",
    "        self.iterations = iterations\n",
    "        self.weights = None\n",
    "        self.bias = None\n",
    "    # fit the model using gradient descent\n",
    "    def fit(self,x,y):\n",
    "      # number of training examples and features\n",
    "        m,n =x.shape\n",
    "\n",
    "        # Initializing weights and bias\n",
    "        self.weights = np.zeros(n)\n",
    "        self.bias = 0\n",
    "        # Gradient Descent\n",
    "        for i in range(self,iterations):\n",
    "            # linear model prediction\n",
    "            y_pred = np.dot(x,self.weights)+self.bias \n",
    "\n",
    "            dw = (1/m)*np.dot(x.T,(y_pred-y))\n",
    "            db = (1/m)*np.sum(y_pred-y)\n",
    "\n",
    "            # update the weights\n",
    "            self.weights -= sefl.learning_rate*dw\n",
    "            self.bias -= self.learning_rate*db\n",
    "\n",
    "    def predit(self,x):\n",
    "        return np.dot(x,self.weights)+self.bias\n",
    "\n",
    "np.random.sedd(42)\n",
    "x = 2*np.random.rand(100,1)\n",
    "y = 4+3*x+np.random.randn(100,1)\n",
    "y = y.shape(-1)\n",
    "\n",
    "            "
   ]
  }
 ],
 "metadata": {
  "kernelspec": {
   "display_name": "Python 3 (ipykernel)",
   "language": "python",
   "name": "python3"
  },
  "language_info": {
   "codemirror_mode": {
    "name": "ipython",
    "version": 3
   },
   "file_extension": ".py",
   "mimetype": "text/x-python",
   "name": "python",
   "nbconvert_exporter": "python",
   "pygments_lexer": "ipython3",
   "version": "3.12.4"
  }
 },
 "nbformat": 4,
 "nbformat_minor": 5
}
